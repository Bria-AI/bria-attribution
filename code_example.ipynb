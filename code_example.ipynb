{
 "cells": [
  {
   "cell_type": "markdown",
   "metadata": {},
   "source": [
    "# Pull And Run Docker Image\n",
    "## Using Triton and Bria-attribution-model"
   ]
  },
  {
   "cell_type": "code",
   "execution_count": null,
   "metadata": {},
   "outputs": [
    {
     "name": "stdout",
     "output_type": "stream",
     "text": [
      "Successfully fetched ECR credentials, expires at: 2025-08-29T00:55:49.897000+00:00\n",
      "Removing login credentials for 300465780738.dkr.ecr.us-east-1.amazonaws.com\n",
      "WARNING! Your password will be stored unencrypted in /home/ubuntu/.docker/config.json.\n",
      "Configure a credential helper to remove this warning. See\n",
      "https://docs.docker.com/engine/reference/commandline/login/#credential-stores\n",
      "\n",
      "Login Succeeded\n",
      "Error response from daemon: pull access denied for 300465780738.dkr.ecr.us-east-1.amazonaws.com/add_asset, repository does not exist or may require 'docker login': denied: User: arn:aws:sts::300465780738:assumed-role/embeddingsAccessRole/docker-puller is not authorized to perform: ecr:BatchGetImage on resource: arn:aws:ecr:us-east-1:300465780738:repository/add_asset because no identity-based policy allows the ecr:BatchGetImage action\n",
      "\"docker kill\" requires at least 1 argument.\n",
      "See 'docker kill --help'.\n",
      "\n",
      "Usage:  docker kill [OPTIONS] CONTAINER [CONTAINER...]\n",
      "\n",
      "Kill one or more running containers\n",
      "Unable to find image '300465780738.dkr.ecr.us-east-1.amazonaws.com/bria-attribution-embeddings:latest' locally\n",
      "latest: Pulling from bria-attribution-embeddings\n",
      "\n",
      "\u001b[1Be0ac0f23: Pulling fs layer \n",
      "\u001b[1B2a7bc3a8: Pulling fs layer \n",
      "\u001b[1Bb700ef54: Pulling fs layer \n",
      "\u001b[1B5783a0f9: Pulling fs layer \n",
      "\u001b[1Bba0172c5: Pulling fs layer \n",
      "\u001b[1Bf9032791: Pulling fs layer \n",
      "\u001b[1Be18001c2: Pulling fs layer \n",
      "\u001b[1B51397311: Pulling fs layer \n",
      "\u001b[1B6da399ba: Pulling fs layer \n",
      "\u001b[1Bd44ce3f2: Pulling fs layer \n",
      "\u001b[1B93fac024: Pulling fs layer \n",
      "\u001b[1Ba67ac549: Pulling fs layer \n",
      "\u001b[1B5c341569: Pulling fs layer \n",
      "\u001b[1B4aef015d: Pulling fs layer \n",
      "\u001b[1B5c3dbc29: Pulling fs layer \n",
      "\u001b[1B980ccfd7: Pulling fs layer \n",
      "\u001b[1B3d1f6652: Pulling fs layer \n",
      "\u001b[1Bc0ed6d6b: Pulling fs layer \n",
      "\u001b[1Be4229993: Pulling fs layer \n",
      "\u001b[1B0250d71b: Pulling fs layer \n",
      "\u001b[1B1a2201f9: Pulling fs layer \n",
      "\u001b[17B9032791: Waiting fs layer \n",
      "\u001b[12B67ac549: Waiting fs layer \n",
      "\u001b[12Bc341569: Waiting fs layer \n",
      "\u001b[11Bc3dbc29: Waiting fs layer \n",
      "\u001b[1B7a9eb5be: Pulling fs layer \n",
      "\u001b[12B80ccfd7: Waiting fs layer \n",
      "\u001b[7B127b8cc7: Waiting fs layer \n",
      "\u001b[28Ba7bc3a8: Extracting   27.3MB/99.65MBB28A\u001b[2K\u001b[29A\u001b[2K\u001b[28A\u001b[2K\u001b[26A\u001b[2K\u001b[29A\u001b[2K\u001b[28A\u001b[2K\u001b[28A\u001b[2K\u001b[26A\u001b[2K\u001b[26A\u001b[2K\u001b[28A\u001b[2K\u001b[28A\u001b[2K\u001b[29A\u001b[2K\u001b[28A\u001b[2K\u001b[29A\u001b[2K\u001b[28A\u001b[2K\u001b[28A\u001b[2K\u001b[28A\u001b[2K\u001b[28A\u001b[2K\u001b[29A\u001b[2K\u001b[28A\u001b[2K\u001b[29A\u001b[2K\u001b[28A\u001b[2K\u001b[28A\u001b[2K\u001b[29A\u001b[2K\u001b[26A\u001b[2K\u001b[29A\u001b[2K\u001b[26A\u001b[2K\u001b[26A\u001b[2K\u001b[24A\u001b[2K\u001b[26A\u001b[2K\u001b[22A\u001b[2K\u001b[21A\u001b[2K\u001b[24A\u001b[2K\u001b[26A\u001b[2K\u001b[24A\u001b[2K\u001b[26A\u001b[2K\u001b[26A\u001b[2K\u001b[29A\u001b[2K\u001b[24A\u001b[2K\u001b[29A\u001b[2K\u001b[24A\u001b[2K\u001b[29A\u001b[2K\u001b[24A\u001b[2K\u001b[19A\u001b[2K\u001b[24A\u001b[2K\u001b[19A\u001b[2K\u001b[18A\u001b[2K\u001b[19A\u001b[2K\u001b[18A\u001b[2K\u001b[19A\u001b[2K\u001b[18A\u001b[2K\u001b[19A\u001b[2K\u001b[19A\u001b[2K\u001b[18A\u001b[2K\u001b[24A\u001b[2K\u001b[24A\u001b[2K\u001b[28A\u001b[2K\u001b[24A\u001b[2K\u001b[18A\u001b[2K\u001b[16A\u001b[2K\u001b[18A\u001b[2K\u001b[16A\u001b[2K\u001b[24A\u001b[2K\u001b[18A\u001b[2K\u001b[18A\u001b[2K\u001b[18A\u001b[2K\u001b[28A\u001b[2K\u001b[18A\u001b[2K\u001b[28A\u001b[2Kdocker: context canceled.\n",
      "See 'docker run --help'.\n",
      "^C\n"
     ]
    }
   ],
   "source": [
    "\n",
    "import os\n",
    "import requests\n",
    "\n",
    "api_token = '<API_TOKEN>'\n",
    "\n",
    "def get_repository_access_password():\n",
    "    \"\"\"Fetch ECR credentials from localhost endpoint\"\"\"\n",
    "    try:\n",
    "        headers = {\"api_token\":  api_token}\n",
    "        url =\"https://engine.prod.bria-api.com\"\n",
    "        response = requests.get(f\"{url}/v2/image/attribution/embedding_repository_access\", headers=headers)\n",
    "        response.raise_for_status()\n",
    "        result = response.json()[\"result\"]\n",
    "        password = result[\"password\"]\n",
    "        \n",
    "        print(f\"Successfully fetched ECR credentials, expires at: {result['expiration']}\")\n",
    "        return password\n",
    "    except Exception as e:\n",
    "        print(f\"Failed to fetch ECR credentials: {e}\")\n",
    "        raise\n",
    "\n",
    "password = get_repository_access_password()\n",
    "! echo \"$password\" | docker login --username AWS --password-stdin 300465780738.dkr.ecr.us-east-1.amazonaws.com\n",
    "\n",
    "! docker pull 300465780738.dkr.ecr.us-east-1.amazonaws.com/bria-attribution-embeddings:latest\n",
    "! docker kill $(docker ps -q --filter expose=8002)\n",
    "! docker run -d   --runtime=nvidia   --shm-size=16gb   -p 8000:8000   -p 8001:8001   -p 8002:8002 300465780738.dkr.ecr.us-east-1.amazonaws.com/bria-attribution-embeddings:latest"
   ]
  },
  {
   "cell_type": "markdown",
   "metadata": {},
   "source": [
    "# Client Side"
   ]
  },
  {
   "cell_type": "markdown",
   "metadata": {},
   "source": [
    "## Installations"
   ]
  },
  {
   "cell_type": "code",
   "execution_count": null,
   "metadata": {},
   "outputs": [],
   "source": [
    "import os\n",
    "import uuid\n",
    "import requests\n",
    "import tritonclient.http as httpclient\n",
    "from PIL import Image\n",
    "from embedder import BRIAEmbedder"
   ]
  },
  {
   "cell_type": "markdown",
   "metadata": {},
   "source": [
    "## Inference Request"
   ]
  },
  {
   "cell_type": "code",
   "execution_count": null,
   "metadata": {},
   "outputs": [],
   "source": [
    "url = '<BRIA_EMBEDDINGS_URL>:8000'\n",
    "image_path = '<IMAGE_PATH>'\n",
    "\n",
    "triton_client = httpclient.InferenceServerClient(\n",
    "    url=url,\n",
    "    # ssl=True,\n",
    "    # ssl_context_factory=gevent.ssl._create_default_https_context,\n",
    ")\n",
    "image = Image.open(image_path)\n",
    "bria_pipeline = BRIAEmbedder(triton_client)\n",
    "img_embeddings = bria_pipeline.run_on_image(image)\n"
   ]
  },
  {
   "cell_type": "markdown",
   "metadata": {},
   "source": [
    "## Send Attribution API"
   ]
  },
  {
   "cell_type": "code",
   "execution_count": null,
   "metadata": {},
   "outputs": [],
   "source": [
    "model_version = os.environ.get(\"model_version\", \"2.3\")\n",
    "attribution_endpoint = os.environ.get(\"attribution_endpoint\", \"httsp://engine.prod.bria-api.com/v2/image/attribution/by_embedding\")\n",
    "api_token = '<API_TOKEN>'\n",
    "\n",
    "try:\n",
    "    print(f\"Read data from queue\")\n",
    "    embeddings_uid = str(uuid.uuid4())\n",
    "    print(f\"embeddings_uid: {embeddings_uid}\")\n",
    "    request_body = {\n",
    "        \"embeddings_base64\": img_embeddings,\n",
    "        \"embeddings_uid\": embeddings_uid,\n",
    "        \"model_version\": 2.3,\n",
    "        \"agent\":  api_token,\n",
    "        \"model_name\": 'replace-backgroud',\n",
    "    }\n",
    "    \n",
    "    headers = {\n",
    "        \"api_token\":  api_token\n",
    "    }\n",
    "\n",
    "    if attribution_endpoint:\n",
    "        response = requests.post(attribution_endpoint, json=request_body, headers=headers)\n",
    "        if response.status_code != 202 or response.status_code != 200:\n",
    "            print(f\"API request failed with status code {response.status_code}: {response.text}\")\n",
    "            raise Exception(f\"API request failed with status code {response.status_code}: {response.text}\")\n",
    "        else:\n",
    "            print(f\"Request body: {request_body}\")\n",
    "except Exception as ex:\n",
    "    print(f\"Error processing record: {ex}\")\n",
    "    raise"
   ]
  }
 ],
 "metadata": {
  "kernelspec": {
   "display_name": "Python 3",
   "language": "python",
   "name": "python3"
  },
  "language_info": {
   "codemirror_mode": {
    "name": "ipython",
    "version": 3
   },
   "file_extension": ".py",
   "mimetype": "text/x-python",
   "name": "python",
   "nbconvert_exporter": "python",
   "pygments_lexer": "ipython3",
   "version": "3.10.12"
  }
 },
 "nbformat": 4,
 "nbformat_minor": 2
}
