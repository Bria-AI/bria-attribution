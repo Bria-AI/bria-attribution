{
 "cells": [
  {
   "cell_type": "markdown",
   "metadata": {},
   "source": [
    "# Pull And Run Docker Image\n",
    "## Using Triton and Bria-attribution-model"
   ]
  },
  {
   "cell_type": "code",
   "execution_count": null,
   "metadata": {},
   "outputs": [],
   "source": [
    "import requests\n",
    "\n",
    "api_token = '<API_TOKEN>'\n",
    "\n",
    "def get_repository_access_password():\n",
    "    \"\"\"Fetch ECR credentials from localhost endpoint\"\"\"\n",
    "    try:\n",
    "        headers = {\"api_token\":  api_token}\n",
    "        url =\"https://engine.prod.bria-api.com\"\n",
    "        response = requests.get(f\"{url}/v2/image/attribution/embedding_repository_access\", headers=headers)\n",
    "        response.raise_for_status()\n",
    "        result = response.json()[\"result\"]\n",
    "        password = result[\"password\"]\n",
    "        \n",
    "        print(f\"Successfully fetched ECR credentials, expires at: {result['expiration']}\")\n",
    "        return password\n",
    "    except Exception as e:\n",
    "        print(f\"Failed to fetch ECR credentials: {e}\")\n",
    "        raise\n",
    "\n",
    "password = get_repository_access_password()\n",
    "! echo \"$password\" | docker login --username AWS --password-stdin 300465780738.dkr.ecr.us-east-1.amazonaws.com\n",
    "\n",
    "! docker pull 300465780738.dkr.ecr.us-east-1.amazonaws.com/bria-attribution-embeddings:latest\n",
    "! docker kill $(docker ps -q --filter expose=8002)\n",
    "! docker run -d   --runtime=nvidia   --shm-size=16gb   -p 8000:8000   -p 8001:8001   -p 8002:8002 300465780738.dkr.ecr.us-east-1.amazonaws.com/bria-attribution-embeddings:latest"
   ]
  },
  {
   "cell_type": "markdown",
   "metadata": {},
   "source": [
    "# Client Side"
   ]
  },
  {
   "cell_type": "markdown",
   "metadata": {},
   "source": [
    "## Installations"
   ]
  },
  {
   "cell_type": "code",
   "execution_count": null,
   "metadata": {},
   "outputs": [],
   "source": [
    "import os\n",
    "import uuid\n",
    "import requests\n",
    "import tritonclient.http as httpclient\n",
    "from PIL import Image\n",
    "from embedder import BRIAEmbedder"
   ]
  },
  {
   "cell_type": "markdown",
   "metadata": {},
   "source": [
    "## Inference Request"
   ]
  },
  {
   "cell_type": "code",
   "execution_count": null,
   "metadata": {},
   "outputs": [],
   "source": [
    "url = '<BRIA_EMBEDDINGS_URL>:8000'\n",
    "image_path = '<IMAGE_PATH>'\n",
    "\n",
    "triton_client = httpclient.InferenceServerClient(\n",
    "    url=url,\n",
    "    # ssl=True,\n",
    "    # ssl_context_factory=gevent.ssl._create_default_https_context,\n",
    ")\n",
    "image = Image.open(image_path)\n",
    "bria_pipeline = BRIAEmbedder(triton_client)\n",
    "img_embeddings = bria_pipeline.run_on_image(image)\n"
   ]
  },
  {
   "cell_type": "markdown",
   "metadata": {},
   "source": [
    "## Send Attribution API"
   ]
  },
  {
   "cell_type": "code",
   "execution_count": null,
   "metadata": {},
   "outputs": [],
   "source": [
    "model_version = os.environ.get(\"model_version\", \"2.3\")\n",
    "attribution_endpoint = os.environ.get(\"attribution_endpoint\", \"httsp://engine.prod.bria-api.com/v2/image/attribution/by_embedding\")\n",
    "api_token = '<API_TOKEN>'\n",
    "\n",
    "try:\n",
    "    print(f\"Read data from queue\")\n",
    "    embeddings_uid = str(uuid.uuid4())\n",
    "    print(f\"embeddings_uid: {embeddings_uid}\")\n",
    "    request_body = {\n",
    "        \"embeddings_base64\": img_embeddings,\n",
    "        \"embeddings_uid\": embeddings_uid,\n",
    "        \"model_version\": 2.3,\n",
    "        \"agent\":  api_token,\n",
    "        \"model_name\": 'replace-backgroud',\n",
    "    }\n",
    "    \n",
    "    headers = {\n",
    "        \"api_token\":  api_token\n",
    "    }\n",
    "\n",
    "    if attribution_endpoint:\n",
    "        response = requests.post(attribution_endpoint, json=request_body, headers=headers)\n",
    "        if response.status_code != 202 or response.status_code != 200:\n",
    "            print(f\"API request failed with status code {response.status_code}: {response.text}\")\n",
    "            raise Exception(f\"API request failed with status code {response.status_code}: {response.text}\")\n",
    "        else:\n",
    "            print(f\"Request body: {request_body}\")\n",
    "except Exception as ex:\n",
    "    print(f\"Error processing record: {ex}\")\n",
    "    raise"
   ]
  }
 ],
 "metadata": {
  "kernelspec": {
   "display_name": "Python 3",
   "language": "python",
   "name": "python3"
  },
  "language_info": {
   "codemirror_mode": {
    "name": "ipython",
    "version": 3
   },
   "file_extension": ".py",
   "mimetype": "text/x-python",
   "name": "python",
   "nbconvert_exporter": "python",
   "pygments_lexer": "ipython3",
   "version": "3.10.12"
  }
 },
 "nbformat": 4,
 "nbformat_minor": 2
}
